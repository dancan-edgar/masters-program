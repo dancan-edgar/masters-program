{
 "cells": [
  {
   "cell_type": "code",
   "execution_count": 1,
   "id": "3d56b04b",
   "metadata": {},
   "outputs": [
    {
     "name": "stdout",
     "output_type": "stream",
     "text": [
      "3\n"
     ]
    }
   ],
   "source": [
    "a_list = [3, 5, 6, 12]\n",
    "\n",
    "print(a_list[0])"
   ]
  },
  {
   "cell_type": "code",
   "execution_count": 2,
   "id": "bf6a9273",
   "metadata": {},
   "outputs": [
    {
     "name": "stdout",
     "output_type": "stream",
     "text": [
      "12\n"
     ]
    }
   ],
   "source": [
    "print(a_list[-1])"
   ]
  },
  {
   "cell_type": "code",
   "execution_count": 3,
   "id": "2e2d713a",
   "metadata": {},
   "outputs": [
    {
     "name": "stdout",
     "output_type": "stream",
     "text": [
      "[5, 6, 12]\n"
     ]
    }
   ],
   "source": [
    "print(a_list[1:])"
   ]
  },
  {
   "cell_type": "code",
   "execution_count": 4,
   "id": "62bd033d",
   "metadata": {},
   "outputs": [
    {
     "name": "stdout",
     "output_type": "stream",
     "text": [
      "3\n",
      "5\n",
      "6\n",
      "12\n"
     ]
    }
   ],
   "source": [
    "for i in a_list:\n",
    "    print(i)"
   ]
  },
  {
   "cell_type": "code",
   "execution_count": 15,
   "id": "30609855",
   "metadata": {},
   "outputs": [
    {
     "name": "stdout",
     "output_type": "stream",
     "text": [
      "[12, 6, 5, 3]\n"
     ]
    }
   ],
   "source": [
    "print(a_list[::-1])"
   ]
  },
  {
   "cell_type": "code",
   "execution_count": 19,
   "id": "95a3ca53",
   "metadata": {},
   "outputs": [
    {
     "name": "stdout",
     "output_type": "stream",
     "text": [
      "[ 9 15 18 36]\n"
     ]
    }
   ],
   "source": [
    "import numpy as np\n",
    "\n",
    "np_a_list = np.array(a_list)\n",
    "print(np_a_list * 3)"
   ]
  },
  {
   "cell_type": "code",
   "execution_count": 21,
   "id": "e9a0ab10",
   "metadata": {},
   "outputs": [
    {
     "name": "stdout",
     "output_type": "stream",
     "text": [
      "[False False  True  True]\n"
     ]
    }
   ],
   "source": [
    "print(np_a_list % 2 == 0)"
   ]
  }
 ],
 "metadata": {
  "kernelspec": {
   "display_name": "Python 3 (ipykernel)",
   "language": "python",
   "name": "python3"
  },
  "language_info": {
   "codemirror_mode": {
    "name": "ipython",
    "version": 3
   },
   "file_extension": ".py",
   "mimetype": "text/x-python",
   "name": "python",
   "nbconvert_exporter": "python",
   "pygments_lexer": "ipython3",
   "version": "3.9.13"
  }
 },
 "nbformat": 4,
 "nbformat_minor": 5
}
