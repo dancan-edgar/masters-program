{
 "cells": [
  {
   "cell_type": "code",
   "execution_count": 12,
   "id": "144269c8",
   "metadata": {},
   "outputs": [
    {
     "name": "stdout",
     "output_type": "stream",
     "text": [
      "AMPEIRE EDGAR\n"
     ]
    }
   ],
   "source": [
    "print(\"AMPEIRE EDGAR\")"
   ]
  },
  {
   "cell_type": "code",
   "execution_count": 13,
   "id": "6b99c762",
   "metadata": {},
   "outputs": [
    {
     "name": "stdout",
     "output_type": "stream",
     "text": [
      "AMPEIRE EDGAR\n"
     ]
    }
   ],
   "source": [
    "# Prints my name\n",
    "print(\"AMPEIRE EDGAR\")"
   ]
  },
  {
   "cell_type": "code",
   "execution_count": 14,
   "id": "6569a395",
   "metadata": {},
   "outputs": [
    {
     "name": "stdout",
     "output_type": "stream",
     "text": [
      "AMPEIRE EDGAR\n"
     ]
    }
   ],
   "source": [
    "# Store name in variable and print it out\n",
    "my_name = \"AMPEIRE EDGAR\"\n",
    "print(my_name)"
   ]
  },
  {
   "cell_type": "code",
   "execution_count": 15,
   "id": "e8161abd",
   "metadata": {},
   "outputs": [
    {
     "name": "stdout",
     "output_type": "stream",
     "text": [
      "This number is:  5\n"
     ]
    }
   ],
   "source": [
    "# Store integer and print it out\n",
    "my_integer = 5\n",
    "print(\"This number is: \",my_integer)"
   ]
  },
  {
   "cell_type": "code",
   "execution_count": 16,
   "id": "4b684f1d",
   "metadata": {
    "scrolled": true
   },
   "outputs": [
    {
     "name": "stdout",
     "output_type": "stream",
     "text": [
      "Enter your name: AMPEIRE EDGAR\n",
      "AMPEIRE EDGAR\n"
     ]
    }
   ],
   "source": [
    "# Get name from the user\n",
    "users_name = input(\"Enter your name: \")\n",
    "print(users_name)\n"
   ]
  },
  {
   "cell_type": "code",
   "execution_count": 17,
   "id": "44abf8fb",
   "metadata": {},
   "outputs": [
    {
     "name": "stdout",
     "output_type": "stream",
     "text": [
      "Enter a number: 4\n",
      "8\n"
     ]
    }
   ],
   "source": [
    "# Get integer from user and multiply it by 2\n",
    "users_integer = int(input(\"Enter a number: \"))\n",
    "print(users_integer * 2)"
   ]
  },
  {
   "cell_type": "code",
   "execution_count": 21,
   "id": "a3ac9ca4",
   "metadata": {},
   "outputs": [
    {
     "name": "stdout",
     "output_type": "stream",
     "text": [
      "Enter the first integer: 4\n",
      "Enter the second integer: 6\n",
      "Product:  24\n"
     ]
    }
   ],
   "source": [
    "# Get two integers and print their product\n",
    "integer1 = int(input(\"Enter the first integer: \"))\n",
    "integer2 = int(input(\"Enter the second integer: \"))\n",
    "print(\"Product: \", integer1 * integer2)"
   ]
  },
  {
   "cell_type": "code",
   "execution_count": 24,
   "id": "779d4a3a",
   "metadata": {},
   "outputs": [
    {
     "name": "stdout",
     "output_type": "stream",
     "text": [
      "Enter an integer: 45\n",
      "The entered integer is a multiple-digit number\n"
     ]
    }
   ],
   "source": [
    "# Check whether integer is a multiple digit number\n",
    "integerX = int(input(\"Enter an integer: \"))\n",
    "if integerX >= 10:\n",
    "    print(\"The entered integer is a multiple-digit number\")"
   ]
  },
  {
   "cell_type": "code",
   "execution_count": 26,
   "id": "8d487281",
   "metadata": {},
   "outputs": [
    {
     "name": "stdout",
     "output_type": "stream",
     "text": [
      "Enter an integer: 5\n",
      "The entered integer is a single-digit\n",
      "5\n"
     ]
    }
   ],
   "source": [
    "# Check whether input is greater or less than 10\n",
    "integerY = int(input(\"Enter an integer: \"))\n",
    "if integerY >= 10:\n",
    "    print(\"The entered integer is a multiple-digit\")\n",
    "else:\n",
    "    print(\"The entered integer is a single-digit\")\n",
    "    print(integerY)    "
   ]
  },
  {
   "cell_type": "code",
   "execution_count": 28,
   "id": "4b60cdad",
   "metadata": {},
   "outputs": [
    {
     "name": "stdout",
     "output_type": "stream",
     "text": [
      "Enter an integer: 99\n",
      "9\n"
     ]
    }
   ],
   "source": [
    "# Subtract 10 from a number until it is less than 10\n",
    "integerZ = int(input(\"Enter an integer: \"))\n",
    "while integerZ >= 10:\n",
    "    integerZ -= 10\n",
    "\n",
    "print(integerZ)"
   ]
  }
 ],
 "metadata": {
  "kernelspec": {
   "display_name": "Python 3 (ipykernel)",
   "language": "python",
   "name": "python3"
  },
  "language_info": {
   "codemirror_mode": {
    "name": "ipython",
    "version": 3
   },
   "file_extension": ".py",
   "mimetype": "text/x-python",
   "name": "python",
   "nbconvert_exporter": "python",
   "pygments_lexer": "ipython3",
   "version": "3.9.13"
  }
 },
 "nbformat": 4,
 "nbformat_minor": 5
}
