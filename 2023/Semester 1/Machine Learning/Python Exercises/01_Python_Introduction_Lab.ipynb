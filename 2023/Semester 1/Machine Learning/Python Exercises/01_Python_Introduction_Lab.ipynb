{
 "cells": [
  {
   "cell_type": "markdown",
   "id": "03c4ee7c-8b1c-4ff8-9638-6e45f4802bb5",
   "metadata": {},
   "source": [
    "### Introduction to Python\n",
    "#### Date: Sep 06,2023\n",
    "#### Submission must be made through Github\n",
    "You are required to complete all tasks correctly (or almost correctly) . You are free to use any material (lecture, Stackoverflow etc.) except full solutions but you should first try to figure them out on your own. We use an nbgrader for partially autograding the assignments. Please DO NOT delete or copy cells. You can add new cells but your solutions should go into the designated cells. "
   ]
  },
  {
   "cell_type": "markdown",
   "id": "79ceb440-0a4a-4cfe-92a8-d8d2d410e1e1",
   "metadata": {},
   "source": [
    "`range()` practice"
   ]
  },
  {
   "cell_type": "markdown",
   "id": "a56105d9-2e08-49de-bf42-4ed89f531dca",
   "metadata": {},
   "source": [
    "1 . Print the numbers between 60 and 69 inclusive."
   ]
  },
  {
   "cell_type": "code",
   "execution_count": 2,
   "id": "9672a3e9-7f15-4956-b6e4-669b03a88cc0",
   "metadata": {},
   "outputs": [],
   "source": [
    "# YOUR CODE HERE\n",
    "raise NotImplementedError()"
   ]
  },
  {
   "cell_type": "markdown",
   "id": "b74e0b6f-b2e2-4b93-a13f-73a3304171d4",
   "metadata": {},
   "source": [
    "2 . Read numbers until 0 and print their mean and standard deviation without using a list."
   ]
  },
  {
   "cell_type": "code",
   "execution_count": null,
   "id": "57c6caad-8250-4346-ada9-418b1fb7e5c8",
   "metadata": {},
   "outputs": [],
   "source": [
    "# YOUR CODE HERE\n",
    "raise NotImplementedError()"
   ]
  },
  {
   "cell_type": "markdown",
   "id": "43d383f5-1f59-47fd-99a5-938bf2c2e937",
   "metadata": {},
   "source": [
    "##### Lists\n",
    "3 . Print the odd numbers from this list. `l = [2, 3, -2, -7, 0, 2, 3]`"
   ]
  },
  {
   "cell_type": "code",
   "execution_count": null,
   "id": "8423d0f0-c4a6-4ac0-9100-523c8e8b9dff",
   "metadata": {},
   "outputs": [],
   "source": [
    "# YOUR CODE HERE\n",
    "raise NotImplementedError()"
   ]
  },
  {
   "cell_type": "markdown",
   "id": "ba8c7678-f149-46fd-a59c-1740c6b31662",
   "metadata": {},
   "source": [
    "##### Functions\n",
    "4 . Write a function that takes an integer parameter `(N)` and returns a list of the first `N` prime numbers starting from 2."
   ]
  },
  {
   "cell_type": "code",
   "execution_count": null,
   "id": "c11489ad-16c8-458e-bb07-6269fdc0ac67",
   "metadata": {},
   "outputs": [],
   "source": [
    "# YOUR CODE HERE\n",
    "raise NotImplementedError()"
   ]
  },
  {
   "cell_type": "code",
   "execution_count": null,
   "id": "0349ebb9-189e-437b-a3f0-8ed95de70b67",
   "metadata": {},
   "outputs": [],
   "source": [
    "assert(get_n_primes(3) == [2, 3, 5])\n",
    "assert(get_n_primes(0) == [])"
   ]
  },
  {
   "cell_type": "markdown",
   "id": "faa7415c-d5d9-4248-95d2-588b6919c59c",
   "metadata": {},
   "source": [
    "5. Write a function that takes an integer parameter (N) and returns the Nth Fibonacci number.\n",
    "\n",
    " The Fibonacci series is defined as:\n",
    "\n",
    "$$\n",
    "F_n = F_{n-1} + F_{n-2} \\text{ for } n>1\\\\\n",
    "F_0 = 0\\\\\n",
    "F_1 = 1\n",
    "$$\n",
    "\n",
    "The first few elements of the Fibonacci series are 0, 1, 1, 2, 3, 5, 8, 13 etc.\n",
    "\n",
    "Raise a `ValueError` if $N<0$.\n"
   ]
  },
  {
   "cell_type": "code",
   "execution_count": null,
   "id": "2cdba1a3-855c-483f-a5b0-eba31d98c186",
   "metadata": {},
   "outputs": [],
   "source": [
    "# YOUR CODE HERE\n",
    "raise NotImplementedError()"
   ]
  },
  {
   "cell_type": "code",
   "execution_count": null,
   "id": "d6b671a5-1c06-4f25-889e-599d5dedc9ae",
   "metadata": {},
   "outputs": [],
   "source": [
    "assert(get_nth_fibonacci(0) == 0)\n",
    "assert(get_nth_fibonacci(1) == 1)\n",
    "assert(get_nth_fibonacci(2) == 1)\n",
    "assert(get_nth_fibonacci(5) == 5)\n",
    "assert(get_nth_fibonacci(7) == 13)\n",
    "\n",
    "try:\n",
    "    get_nth_fibonacci(-2)\n",
    "except ValueError:\n",
    "    pass\n",
    "else:\n",
    "    AssertionError(\"TEST FAILS. Negative index should raise a ValueError.\")"
   ]
  },
  {
   "cell_type": "markdown",
   "id": "fc2960b4-e2b4-4e98-9284-9acb6e682182",
   "metadata": {},
   "source": [
    "6 . Create a function that take a list and a predicate (function with boolean return value) as parameters and returns a new list of those elements which the predicate return True. A predicate is a function that takes one element and return `True` or `False`, for example `is_even`, `is_prime`. If you implemented The following tests should run.\n"
   ]
  },
  {
   "cell_type": "code",
   "execution_count": null,
   "id": "a5bbd70f-1ba6-4a46-8b14-bc8b82da1a18",
   "metadata": {},
   "outputs": [],
   "source": [
    "# YOUR CODE HERE\n",
    "raise NotImplementedError()"
   ]
  },
  {
   "cell_type": "code",
   "execution_count": null,
   "id": "a2622238-54c7-4561-b6e6-52020207940f",
   "metadata": {},
   "outputs": [],
   "source": [
    "l1 = [1, 2, 3, 4, 19, 35, 11]\n",
    "l2 = [1, 4, 9, 16, 25]\n",
    "assert(filter_list(l1, is_odd) == [1, 3, 19, 35, 11])\n",
    "assert(filter_list(l1, is_prime) == [2, 3, 19, 11])\n",
    "assert(filter_list(l2, is_prime) == [])"
   ]
  },
  {
   "cell_type": "markdown",
   "id": "11b4614e-75b6-4735-bbb3-54899d386014",
   "metadata": {},
   "source": [
    "7.  Reduce is a function that applies a two argument function against an accumulator and each element in the sequence (from left to right) to reduce it to a single value. If no initial value is provided, the accumulator is initialized with the return value of the function run on the first two elements of the sequence.\n",
    "\n",
    "```\n",
    "reduce([1, 2, 3], product) ---> 6\n",
    "reduce([1, 2, 3], product, accumulator=10) ---> 60\n",
    "reduce([\"foo\", \"bar\"], string_addition) ---> \"foobar\"\n",
    "reduce([\"foo\", \"bar\"], string_addition, accumulator=\"hello\") ---> \"hellofoobar\"\n",
    "```"
   ]
  },
  {
   "cell_type": "code",
   "execution_count": null,
   "id": "8101a46d-4eb0-46ee-951d-ad3a32619d84",
   "metadata": {},
   "outputs": [],
   "source": [
    "# YOUR CODE HERE\n",
    "raise NotImplementedError()"
   ]
  },
  {
   "cell_type": "code",
   "execution_count": null,
   "id": "06afdae8-d4b5-4a65-85ab-bd469456caed",
   "metadata": {},
   "outputs": [],
   "source": [
    "l1 = [1, 2, -1, 5]\n",
    "l2 = [\"foo\", \"bar\", \"hello\"]\n",
    "\n",
    "assert(reduce(l1, add) == 7)\n",
    "assert(reduce(l1, add, 10) == 17)\n",
    "assert(reduce(l2, string_len_add, 0) == 11)"
   ]
  },
  {
   "cell_type": "markdown",
   "id": "d5057830-6794-4d2d-ac06-02b44b852186",
   "metadata": {},
   "source": [
    "8. Use your reduce function for the following operations:\n",
    "\n",
    "##### a. count the number of odd elements in a list of integers,\n",
    "##### b. find the maximum of a list of integers,\n",
    "##### c. find the longest string in list of strings.\n",
    "\n",
    "``` Test your solutions. ```"
   ]
  },
  {
   "cell_type": "code",
   "execution_count": null,
   "id": "dbb28576-5abb-4b90-8e9f-c4bfcaffc3b7",
   "metadata": {},
   "outputs": [],
   "source": [
    "# YOUR CODE HERE\n",
    "raise NotImplementedError()"
   ]
  },
  {
   "cell_type": "code",
   "execution_count": null,
   "id": "af799981-375d-4c42-8dc1-83908ed0e8a4",
   "metadata": {},
   "outputs": [],
   "source": [
    "# YOUR CODE HERE\n",
    "raise NotImplementedError()"
   ]
  },
  {
   "cell_type": "markdown",
   "id": "3c077854-065c-4c34-9def-93b57b32e9db",
   "metadata": {},
   "source": [
    "9. Create a function that takes a matrix of size NxM and returns the pairwise L2 distance of each row pair.\n",
    "\n",
    "For input $A^{N \\times M}$, the output should be $D^{N \\times N}$ where: $D_{i,j} = L_2 (A_i, A_j)$"
   ]
  },
  {
   "cell_type": "code",
   "execution_count": null,
   "id": "b987aeec-458a-4ae7-b203-59334bdb725e",
   "metadata": {},
   "outputs": [],
   "source": [
    "# YOUR CODE HERE\n",
    "raise NotImplementedError()"
   ]
  },
  {
   "cell_type": "code",
   "execution_count": null,
   "id": "a8a40461-7af8-41f7-96f2-729f69c62ab8",
   "metadata": {},
   "outputs": [],
   "source": [
    "D = pairwise_row_distance([[1, 0, 2], [0, 2, 1]])\n",
    "# should be a matrix\n",
    "assert is_matrix(D) == True\n",
    "assert len(D) == 2\n",
    "assert len(D[0]) == 2\n",
    "assert D[0][0] == 0\n",
    "assert abs(D[0][1] - 2.449489742783178) < 1e-3\n",
    "assert abs(D[1][0] - 2.449489742783178) < 1e-3\n",
    "assert D[1][1] == 0\n",
    "\n",
    "# should be symmetric\n",
    "assert transpose(D) == D"
   ]
  },
  {
   "cell_type": "markdown",
   "id": "211444ab-c1e5-47cf-86d1-ca72d009b7d1",
   "metadata": {},
   "source": [
    "10 . Object Oriented Programming\n",
    " Define a class named `A` with a 'constructor' that takes a single parameter and stores it in an attribute named `value`. Add a `print_value` method to the class. Instantiate the class and call the `print_value` method."
   ]
  },
  {
   "cell_type": "code",
   "execution_count": null,
   "id": "86213a2e-3268-45aa-90cc-151c8ef4417f",
   "metadata": {},
   "outputs": [],
   "source": [
    "# YOUR CODE HERE\n",
    "raise NotImplementedError()"
   ]
  },
  {
   "cell_type": "code",
   "execution_count": null,
   "id": "70769d9e-d21e-4685-8436-6f4de2b1b798",
   "metadata": {},
   "outputs": [],
   "source": [
    "a = A(\"abc\")\n",
    "a.print_value()"
   ]
  },
  {
   "cell_type": "markdown",
   "id": "b2c7b287-c0ec-4fba-ba52-69aedfb3f9e5",
   "metadata": {},
   "source": [
    "11.  Define a class named `B`, whose `__init__` takes two parameters and stores one in a public attribute and the other in a private attribute named `this_is_public` and `__this_is_private` respectively. Check the class's ``__dict__``  attribute and find out the mangled name of the private attribute."
   ]
  },
  {
   "cell_type": "code",
   "execution_count": null,
   "id": "887717c5-b8e6-4e4f-a389-167cc3ad2f90",
   "metadata": {},
   "outputs": [],
   "source": [
    "# YOUR CODE HERE\n",
    "raise NotImplementedError()"
   ]
  },
  {
   "cell_type": "code",
   "execution_count": null,
   "id": "2890d450-5191-4dd0-91ef-4dc5f84b511c",
   "metadata": {},
   "outputs": [],
   "source": [
    "b = B(1, 2)\n",
    "assert b.this_is_public == 1\n",
    "try:\n",
    "    b.__this_is_private\n",
    "    print(\"This should not happen.\")\n",
    "except AttributeError:\n",
    "    print(\"Failed to access private attribute, this is good :)\")"
   ]
  },
  {
   "cell_type": "markdown",
   "id": "4197c752-3a45-4e48-a3e3-2fd8a8172387",
   "metadata": {},
   "source": [
    "13 . Inheritance\n",
    "\n",
    "###### Guess the output without running the cell."
   ]
  },
  {
   "cell_type": "code",
   "execution_count": null,
   "id": "2a142442-f03b-438d-bca6-3a2c7c16ab7e",
   "metadata": {},
   "outputs": [],
   "source": [
    "class A(object): pass\n",
    "class B(A): pass\n",
    "class C(A): pass\n",
    "class D(B): pass\n",
    "\n",
    "a = A()\n",
    "b = B()\n",
    "c = C()\n",
    "d = D()\n",
    "\n",
    "print(isinstance(a, object))\n",
    "print(isinstance(b, object))\n",
    "print(isinstance(a, B))\n",
    "print(isinstance(b, A))\n",
    "print(isinstance(d, A))"
   ]
  },
  {
   "cell_type": "code",
   "execution_count": null,
   "id": "c637dbb5-1350-4fbd-bf2c-94f4a60d6e5a",
   "metadata": {},
   "outputs": [],
   "source": [
    "print(issubclass(C, object))\n",
    "print(issubclass(D, B))\n",
    "print(issubclass(B, D))\n",
    "print(issubclass(B, B))"
   ]
  },
  {
   "cell_type": "markdown",
   "id": "2dc2067d-f15e-424a-b5f1-9782cb8c7ee5",
   "metadata": {},
   "source": [
    "#### Create a Cat, a Dog, a Fish and a Eagle class.\n",
    "\n",
    "The animals have the following attributes:\n",
    "\n",
    "1. cats, dogs and eagles can make a sound (this should be a make_sound function that prints the animals sound),\n",
    "2. all animals have an age and a number_of_legs attribute,\n",
    "3. cats and dogs have a fur_color attribute. They can be instantiated with a single color or a list or tuple of colors.\n",
    "\n",
    "Use inheritance and avoid repeating code. Use default values in the constructors."
   ]
  },
  {
   "cell_type": "code",
   "execution_count": null,
   "id": "58b41d3c-bc66-4e6a-bcc9-345814da6dd5",
   "metadata": {},
   "outputs": [],
   "source": [
    "# YOUR CODE HERE\n",
    "raise NotImplementedError()"
   ]
  },
  {
   "cell_type": "code",
   "execution_count": null,
   "id": "cf485478-8ccb-4ece-b411-25aeda370733",
   "metadata": {},
   "outputs": [],
   "source": [
    "try:\n",
    "    cat = Cat(\"Fluffy\", age=3, fur=\"white\")\n",
    "    dog = Dog(\"Cherry\", age=1, fur=(\"white\", \"brown\", \"black\"))\n",
    "    fish = Fish(\"King\")\n",
    "    eagle = Eagle(\"Bruce\", age=2)\n",
    "    animals = [cat, dog, fish, eagle]\n",
    "except Exception as e:\n",
    "    print(f'Could not initialize an animal: {e}')"
   ]
  },
  {
   "cell_type": "markdown",
   "id": "05cce854-4ec1-4f38-8c59-a6a9d024a147",
   "metadata": {},
   "source": [
    "#### Numpy basic exercises\n",
    "\n",
    "Use vectorization and avoid for loops in all exercises. Implement each exercise as a single function.\n",
    "\n",
    "##### Implement standardization for 2D arrays.\n",
    "\n",
    "Standardization is defined as:\n",
    "\n",
    "\\begin{equation*}\n",
    "X_{std} = \\frac{X - \\mu}{\\sigma},\n",
    "\\end{equation*}\n",
    "\n",
    "where $\\mu$ is the mean of each row and $\\rho$ is the standard deviation of each column."
   ]
  },
  {
   "cell_type": "code",
   "execution_count": null,
   "id": "b0a6e8bb-88de-4598-a7d9-e667d944d41a",
   "metadata": {},
   "outputs": [],
   "source": [
    "def standardize(X):\n",
    "    # YOUR CODE HERE\n",
    "    raise NotImplementedError()\n",
    "\n",
    "X_std = standardize(np.array([[1, 2], [2, 3], [1, 2]]))\n",
    "X_std"
   ]
  },
  {
   "cell_type": "markdown",
   "id": "1b248a73-d899-475b-bac0-a17382dfefab",
   "metadata": {},
   "source": [
    "#### Implement normalization for 2D arrays.\n",
    "\n",
    "Normalization is defined as:\n",
    "\n",
    "\\begin{equation*}\n",
    "X_{norm} = \\frac{X - X_{min}}{X_{max} - X_{min}}\n",
    "\\end{equation*}"
   ]
  },
  {
   "cell_type": "code",
   "execution_count": null,
   "id": "95841093-e7e7-4f28-94b5-a53a554cddfe",
   "metadata": {},
   "outputs": [],
   "source": [
    "def normalize(X):\n",
    "    # YOUR CODE HERE\n",
    "    raise NotImplementedError()\n",
    "\n",
    "X = np.arange(6).reshape(2, 3)\n",
    "X[1, 2] = -5\n",
    "print(X)\n",
    "normalize(X)"
   ]
  },
  {
   "cell_type": "code",
   "execution_count": null,
   "id": "75fe2509-9e4a-45aa-8f41-e2dd6290d81a",
   "metadata": {},
   "outputs": [],
   "source": [
    "answer = np.array(\n",
    "    [[0., 0., 1.],\n",
    "     [1., 1., 0.]]\n",
    ")\n",
    "X_norm = normalize(X)\n",
    "assert np.allclose(X_norm, answer)"
   ]
  }
 ],
 "metadata": {
  "kernelspec": {
   "display_name": "Python 3 (ipykernel)",
   "language": "python",
   "name": "python3"
  },
  "language_info": {
   "codemirror_mode": {
    "name": "ipython",
    "version": 3
   },
   "file_extension": ".py",
   "mimetype": "text/x-python",
   "name": "python",
   "nbconvert_exporter": "python",
   "pygments_lexer": "ipython3",
   "version": "3.9.13"
  }
 },
 "nbformat": 4,
 "nbformat_minor": 5
}
