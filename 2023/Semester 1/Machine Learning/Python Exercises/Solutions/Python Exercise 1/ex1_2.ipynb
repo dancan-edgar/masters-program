{
 "cells": [
  {
   "cell_type": "code",
   "execution_count": 3,
   "id": "dde3379c",
   "metadata": {},
   "outputs": [
    {
     "name": "stdout",
     "output_type": "stream",
     "text": [
      "Sweets\n"
     ]
    }
   ],
   "source": [
    "# List of groceries\n",
    "groceries = [\"Bread\", \"Cookies\", \"Sweets\", \"Biscuits\", \"Honey\"]\n",
    "# Print the third item in groceries\n",
    "print(groceries[2])"
   ]
  },
  {
   "cell_type": "code",
   "execution_count": 4,
   "id": "1d386a99",
   "metadata": {},
   "outputs": [
    {
     "name": "stdout",
     "output_type": "stream",
     "text": [
      "I\n"
     ]
    }
   ],
   "source": [
    "# Name\n",
    "my_full_name = \"AMPEIRE EDGAR\"\n",
    "# Print 5th character\n",
    "print(my_full_name[4])"
   ]
  },
  {
   "cell_type": "code",
   "execution_count": 5,
   "id": "8ce4b5ed",
   "metadata": {},
   "outputs": [
    {
     "name": "stdout",
     "output_type": "stream",
     "text": [
      "Bread\n",
      "Cookies\n",
      "Sweets\n",
      "Biscuits\n",
      "Honey\n"
     ]
    }
   ],
   "source": [
    "# Loop through the grocery items and print each item\n",
    "for item in groceries:\n",
    "    print(item)"
   ]
  },
  {
   "cell_type": "code",
   "execution_count": 6,
   "id": "8a4a79ca",
   "metadata": {},
   "outputs": [
    {
     "name": "stdout",
     "output_type": "stream",
     "text": [
      "0\n",
      "1\n",
      "4\n",
      "9\n",
      "16\n",
      "25\n",
      "36\n",
      "49\n",
      "64\n",
      "81\n",
      "100\n"
     ]
    }
   ],
   "source": [
    "# Print sqaures of numbers from 0 to 10\n",
    "for integer in range(0, 11):\n",
    "    print(integer ** 2)"
   ]
  },
  {
   "cell_type": "code",
   "execution_count": 10,
   "id": "4dd0f1bd",
   "metadata": {},
   "outputs": [
    {
     "name": "stdout",
     "output_type": "stream",
     "text": [
      "05:25:00\n"
     ]
    }
   ],
   "source": [
    "import datetime as dt\n",
    "\n",
    "# Time variable\n",
    "my_time = dt.time(hour=5, minute=25)\n",
    "\n",
    "# print the time\n",
    "print(my_time)"
   ]
  },
  {
   "cell_type": "code",
   "execution_count": 12,
   "id": "fcae9e29",
   "metadata": {},
   "outputs": [
    {
     "name": "stdout",
     "output_type": "stream",
     "text": [
      "[[1 0]\n",
      " [0 1]]\n"
     ]
    }
   ],
   "source": [
    "import numpy as np\n",
    "\n",
    "#  Create a 2 * 2 array with 1s on the diagonal\n",
    "my_array = np.diag([1,1])\n",
    "\n",
    "\n",
    "# Print the array\n",
    "print(my_array)"
   ]
  },
  {
   "cell_type": "code",
   "execution_count": 13,
   "id": "92db1ecb",
   "metadata": {},
   "outputs": [
    {
     "name": "stdout",
     "output_type": "stream",
     "text": [
      "[[[1. 1.]\n",
      "  [1. 1.]\n",
      "  [1. 1.]]\n",
      "\n",
      " [[1. 1.]\n",
      "  [1. 1.]\n",
      "  [1. 1.]]]\n"
     ]
    }
   ],
   "source": [
    "# Create an array with ones on every element\n",
    "ones_array = np.ones([2, 3, 2])\n",
    "\n",
    "print(ones_array)"
   ]
  },
  {
   "cell_type": "code",
   "execution_count": 22,
   "id": "4d885289",
   "metadata": {},
   "outputs": [
    {
     "name": "stdout",
     "output_type": "stream",
     "text": [
      "6\n"
     ]
    }
   ],
   "source": [
    "# Create 3 * 3 array\n",
    "my_3_by_3_array = np.array([[1, 2, 3],\n",
    "                       [4, 5, 6],\n",
    "                       [7, 8, 9]])\n",
    "\n",
    "# Print the element from the intersection of the 2nd row and 3rd column\n",
    "print(my_3_by_3_array[1, 2])"
   ]
  },
  {
   "cell_type": "code",
   "execution_count": 23,
   "id": "edf0810f",
   "metadata": {},
   "outputs": [
    {
     "name": "stdout",
     "output_type": "stream",
     "text": [
      "(3, 3)\n"
     ]
    }
   ],
   "source": [
    "# Print the shape of \"my3by3Array\"\n",
    "print(my_3_by_3_array.shape)"
   ]
  },
  {
   "cell_type": "code",
   "execution_count": 31,
   "id": "e0df3687",
   "metadata": {},
   "outputs": [
    {
     "name": "stdout",
     "output_type": "stream",
     "text": [
      "1\n",
      "2\n",
      "3\n",
      "4\n",
      "5\n",
      "6\n",
      "7\n",
      "8\n",
      "9\n"
     ]
    }
   ],
   "source": [
    "# Iterate through the rows and columns of my3by3Array\n",
    "for i in my_3_by_3_array:\n",
    "    for j in i:\n",
    "        print(j)"
   ]
  },
  {
   "cell_type": "code",
   "execution_count": 35,
   "id": "3bec7aed",
   "metadata": {},
   "outputs": [
    {
     "name": "stdout",
     "output_type": "stream",
     "text": [
      "81\n"
     ]
    }
   ],
   "source": [
    "#  Square every number in the array and print the maximum value contained in it\n",
    "squares = my_3_by_3_array ** 2\n",
    "\n",
    "#  Get the maximum value\n",
    "max_value = np.amax(squares)\n",
    "\n",
    "# Print the maximum\n",
    "print(max_value)"
   ]
  },
  {
   "cell_type": "code",
   "execution_count": null,
   "id": "2e94eb74",
   "metadata": {},
   "outputs": [],
   "source": []
  }
 ],
 "metadata": {
  "kernelspec": {
   "display_name": "Python 3 (ipykernel)",
   "language": "python",
   "name": "python3"
  },
  "language_info": {
   "codemirror_mode": {
    "name": "ipython",
    "version": 3
   },
   "file_extension": ".py",
   "mimetype": "text/x-python",
   "name": "python",
   "nbconvert_exporter": "python",
   "pygments_lexer": "ipython3",
   "version": "3.9.13"
  }
 },
 "nbformat": 4,
 "nbformat_minor": 5
}
